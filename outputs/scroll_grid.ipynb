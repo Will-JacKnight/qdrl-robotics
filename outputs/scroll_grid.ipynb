{
 "cells": [
  {
   "cell_type": "code",
   "execution_count": null,
   "metadata": {},
   "outputs": [],
   "source": [
    "import time\n",
    "from IPython.display import display, clear_output\n",
    "from PIL import Image\n",
    "import os\n",
    "\n",
    "\n",
    "frame_folder = \"dcrl_20250702_105607\"\n",
    "# frame_folder = \"dcrl_20250703_114735\"\n",
    "\n",
    "frame_folder += \"/grid\"\n",
    "frame_files = sorted(\n",
    "    os.listdir(frame_folder),\n",
    "    key=lambda fname: int(os.path.splitext(fname)[0])   # extract the number\n",
    ")\n",
    "\n",
    "while True:\n",
    "    for frame_file in frame_files:\n",
    "        if frame_file.endswith('.png'):\n",
    "            clear_output(wait=True)\n",
    "            img_path = os.path.join(frame_folder, frame_file)\n",
    "            img = Image.open(img_path)\n",
    "            display(img)\n",
    "            time.sleep(0.5)"
   ]
  }
 ],
 "metadata": {
  "kernelspec": {
   "display_name": "qdax050",
   "language": "python",
   "name": "python3"
  },
  "language_info": {
   "codemirror_mode": {
    "name": "ipython",
    "version": 3
   },
   "file_extension": ".py",
   "mimetype": "text/x-python",
   "name": "python",
   "nbconvert_exporter": "python",
   "pygments_lexer": "ipython3",
   "version": "3.12.11"
  }
 },
 "nbformat": 4,
 "nbformat_minor": 2
}

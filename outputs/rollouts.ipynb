{
 "cells": [
  {
   "cell_type": "code",
   "execution_count": null,
   "metadata": {},
   "outputs": [],
   "source": [
    "from IPython.display import display, HTML"
   ]
  },
  {
   "cell_type": "markdown",
   "metadata": {},
   "source": [
    "## Intact training with damage roll-outs\n",
    "- num_iterations = 500\n",
    "- batch_size = 1024\n",
    "- episode_length = 500"
   ]
  },
  {
   "cell_type": "code",
   "execution_count": null,
   "metadata": {},
   "outputs": [],
   "source": [
    "# output_path = \"mapelites_20250701_152736\"\n",
    "# output_path = \"dcrl_20250703_114735\"\n",
    "output_path = \"dcrl_20250704_185243\"\n",
    "\n",
    "\n",
    "def load_html(file_path):\n",
    "    with open(file_path, \"r\") as f:\n",
    "        html_content = f.read()\n",
    "    display(HTML(html_content))"
   ]
  },
  {
   "cell_type": "markdown",
   "metadata": {},
   "source": [
    "## Display\n",
    "### pre_adaptation_without_damage"
   ]
  },
  {
   "cell_type": "code",
   "execution_count": null,
   "metadata": {},
   "outputs": [],
   "source": [
    "# html_path = output_path + \"/pre_adaptation_without_damage.html\"\n",
    "# html_path = output_path + \"/pre_adaptation_with_damage.html\"\n",
    "# html_path = output_path + \"/post_adaptation_with_damage.html\"\n",
    "html_path = output_path + \"/best_real_fitness.html\"\n",
    "\n",
    "load_html(html_path)"
   ]
  }
 ],
 "metadata": {
  "kernelspec": {
   "display_name": "qdax050",
   "language": "python",
   "name": "python3"
  },
  "language_info": {
   "codemirror_mode": {
    "name": "ipython",
    "version": 3
   },
   "file_extension": ".py",
   "mimetype": "text/x-python",
   "name": "python",
   "nbconvert_exporter": "python",
   "pygments_lexer": "ipython3",
   "version": "3.12.11"
  }
 },
 "nbformat": 4,
 "nbformat_minor": 2
}
